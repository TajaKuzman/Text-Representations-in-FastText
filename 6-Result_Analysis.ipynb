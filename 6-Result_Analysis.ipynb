{
 "cells": [
  {
   "cell_type": "code",
   "execution_count": 3,
   "metadata": {},
   "outputs": [
    {
     "name": "stdout",
     "output_type": "stream",
     "text": [
      "75\n",
      "{'microF1': 0.5602836879432624, 'macroF1': 0.589250077482907, 'label_scores': {'__label__Information/Explanation': 0.5423728813559322, '__label__Promotion': 0.5882352941176471, '__label__News': 0.5842696629213482, '__label__Forum': 0.8, '__label__Opinion/Argumentation': 0.4313725490196078}, 'run': 0, 'experiment': 'baseline_text'}\n"
     ]
    }
   ],
   "source": [
    "# Import the file with results\n",
    "import json\n",
    "import pandas as pd\n",
    "\n",
    "with open(\"G:/My Drive/GitHub/Text-Representations-in-FastText/results/FastTextExperimentsResults-all-representations-updated.json\") as result_file:\n",
    "    results = json.load(result_file)\n",
    "\n",
    "print(len(results))\n",
    "print(results[0])"
   ]
  },
  {
   "cell_type": "code",
   "execution_count": 21,
   "metadata": {},
   "outputs": [
    {
     "data": {
      "text/html": [
       "<div>\n",
       "<style scoped>\n",
       "    .dataframe tbody tr th:only-of-type {\n",
       "        vertical-align: middle;\n",
       "    }\n",
       "\n",
       "    .dataframe tbody tr th {\n",
       "        vertical-align: top;\n",
       "    }\n",
       "\n",
       "    .dataframe thead th {\n",
       "        text-align: right;\n",
       "    }\n",
       "</style>\n",
       "<table border=\"1\" class=\"dataframe\">\n",
       "  <thead>\n",
       "    <tr style=\"text-align: right;\">\n",
       "      <th></th>\n",
       "      <th>microF1</th>\n",
       "      <th>macroF1</th>\n",
       "      <th>label_scores</th>\n",
       "      <th>run</th>\n",
       "      <th>experiment</th>\n",
       "    </tr>\n",
       "  </thead>\n",
       "  <tbody>\n",
       "    <tr>\n",
       "      <th>0</th>\n",
       "      <td>0.560284</td>\n",
       "      <td>0.58925</td>\n",
       "      <td>{'__label__Information/Explanation': 0.5423728...</td>\n",
       "      <td>0</td>\n",
       "      <td>baseline_text</td>\n",
       "    </tr>\n",
       "    <tr>\n",
       "      <th>1</th>\n",
       "      <td>0.560284</td>\n",
       "      <td>0.58925</td>\n",
       "      <td>{'__label__Information/Explanation': 0.5423728...</td>\n",
       "      <td>1</td>\n",
       "      <td>baseline_text</td>\n",
       "    </tr>\n",
       "    <tr>\n",
       "      <th>2</th>\n",
       "      <td>0.560284</td>\n",
       "      <td>0.58925</td>\n",
       "      <td>{'__label__Information/Explanation': 0.5423728...</td>\n",
       "      <td>2</td>\n",
       "      <td>baseline_text</td>\n",
       "    </tr>\n",
       "    <tr>\n",
       "      <th>3</th>\n",
       "      <td>0.560284</td>\n",
       "      <td>0.58925</td>\n",
       "      <td>{'__label__Information/Explanation': 0.5423728...</td>\n",
       "      <td>3</td>\n",
       "      <td>baseline_text</td>\n",
       "    </tr>\n",
       "    <tr>\n",
       "      <th>4</th>\n",
       "      <td>0.560284</td>\n",
       "      <td>0.58925</td>\n",
       "      <td>{'__label__Information/Explanation': 0.5423728...</td>\n",
       "      <td>4</td>\n",
       "      <td>baseline_text</td>\n",
       "    </tr>\n",
       "  </tbody>\n",
       "</table>\n",
       "</div>"
      ],
      "text/plain": [
       "    microF1  macroF1                                       label_scores  run  \\\n",
       "0  0.560284  0.58925  {'__label__Information/Explanation': 0.5423728...    0   \n",
       "1  0.560284  0.58925  {'__label__Information/Explanation': 0.5423728...    1   \n",
       "2  0.560284  0.58925  {'__label__Information/Explanation': 0.5423728...    2   \n",
       "3  0.560284  0.58925  {'__label__Information/Explanation': 0.5423728...    3   \n",
       "4  0.560284  0.58925  {'__label__Information/Explanation': 0.5423728...    4   \n",
       "\n",
       "      experiment  \n",
       "0  baseline_text  \n",
       "1  baseline_text  \n",
       "2  baseline_text  \n",
       "3  baseline_text  \n",
       "4  baseline_text  "
      ]
     },
     "execution_count": 21,
     "metadata": {},
     "output_type": "execute_result"
    }
   ],
   "source": [
    "results_df = pd.DataFrame(results)\n",
    "\n",
    "results_df.head()"
   ]
  },
  {
   "cell_type": "code",
   "execution_count": 9,
   "metadata": {},
   "outputs": [
    {
     "data": {
      "text/plain": [
       "['baseline_text',\n",
       " 'lowercase',\n",
       " 'nopunctuation',\n",
       " 'nonumbers',\n",
       " 'lowercase_nopunct_nodigits',\n",
       " 'lemmas',\n",
       " 'upos',\n",
       " 'xpos',\n",
       " 'dependency',\n",
       " 'ner',\n",
       " 'stopwords_removed',\n",
       " 'only_stopwords',\n",
       " 'only_subjective_classes',\n",
       " 'only_nouns_verbs']"
      ]
     },
     "execution_count": 9,
     "metadata": {},
     "output_type": "execute_result"
    }
   ],
   "source": [
    "experiment_list = list(results_df.experiment.unique())\n",
    "\n",
    "experiment_list"
   ]
  },
  {
   "cell_type": "code",
   "execution_count": 46,
   "metadata": {},
   "outputs": [
    {
     "data": {
      "text/html": [
       "<div>\n",
       "<style scoped>\n",
       "    .dataframe tbody tr th:only-of-type {\n",
       "        vertical-align: middle;\n",
       "    }\n",
       "\n",
       "    .dataframe tbody tr th {\n",
       "        vertical-align: top;\n",
       "    }\n",
       "\n",
       "    .dataframe thead th {\n",
       "        text-align: right;\n",
       "    }\n",
       "</style>\n",
       "<table border=\"1\" class=\"dataframe\">\n",
       "  <thead>\n",
       "    <tr style=\"text-align: right;\">\n",
       "      <th></th>\n",
       "      <th>microF1</th>\n",
       "      <th>macroF1</th>\n",
       "      <th>label_scores</th>\n",
       "      <th>run</th>\n",
       "      <th>experiment</th>\n",
       "    </tr>\n",
       "  </thead>\n",
       "  <tbody>\n",
       "    <tr>\n",
       "      <th>20</th>\n",
       "      <td>0.560284</td>\n",
       "      <td>0.59758</td>\n",
       "      <td>{'__label__Information/Explanation': 0.5714285...</td>\n",
       "      <td>0</td>\n",
       "      <td>lowercase_nopunct_nodigits</td>\n",
       "    </tr>\n",
       "    <tr>\n",
       "      <th>21</th>\n",
       "      <td>0.560284</td>\n",
       "      <td>0.59758</td>\n",
       "      <td>{'__label__Information/Explanation': 0.5714285...</td>\n",
       "      <td>1</td>\n",
       "      <td>lowercase_nopunct_nodigits</td>\n",
       "    </tr>\n",
       "    <tr>\n",
       "      <th>22</th>\n",
       "      <td>0.560284</td>\n",
       "      <td>0.59758</td>\n",
       "      <td>{'__label__Information/Explanation': 0.5714285...</td>\n",
       "      <td>2</td>\n",
       "      <td>lowercase_nopunct_nodigits</td>\n",
       "    </tr>\n",
       "    <tr>\n",
       "      <th>23</th>\n",
       "      <td>0.560284</td>\n",
       "      <td>0.59758</td>\n",
       "      <td>{'__label__Information/Explanation': 0.5714285...</td>\n",
       "      <td>3</td>\n",
       "      <td>lowercase_nopunct_nodigits</td>\n",
       "    </tr>\n",
       "    <tr>\n",
       "      <th>24</th>\n",
       "      <td>0.560284</td>\n",
       "      <td>0.59758</td>\n",
       "      <td>{'__label__Information/Explanation': 0.5714285...</td>\n",
       "      <td>4</td>\n",
       "      <td>lowercase_nopunct_nodigits</td>\n",
       "    </tr>\n",
       "  </tbody>\n",
       "</table>\n",
       "</div>"
      ],
      "text/plain": [
       "     microF1  macroF1                                       label_scores  run  \\\n",
       "20  0.560284  0.59758  {'__label__Information/Explanation': 0.5714285...    0   \n",
       "21  0.560284  0.59758  {'__label__Information/Explanation': 0.5714285...    1   \n",
       "22  0.560284  0.59758  {'__label__Information/Explanation': 0.5714285...    2   \n",
       "23  0.560284  0.59758  {'__label__Information/Explanation': 0.5714285...    3   \n",
       "24  0.560284  0.59758  {'__label__Information/Explanation': 0.5714285...    4   \n",
       "\n",
       "                    experiment  \n",
       "20  lowercase_nopunct_nodigits  \n",
       "21  lowercase_nopunct_nodigits  \n",
       "22  lowercase_nopunct_nodigits  \n",
       "23  lowercase_nopunct_nodigits  \n",
       "24  lowercase_nopunct_nodigits  "
      ]
     },
     "execution_count": 46,
     "metadata": {},
     "output_type": "execute_result"
    }
   ],
   "source": [
    "preprocessing_steps_df = results_df[results_df[\"experiment\"] == \"lowercase_nopunct_nodigits\"]\n",
    "preprocessing_steps_df"
   ]
  },
  {
   "cell_type": "code",
   "execution_count": 38,
   "metadata": {},
   "outputs": [
    {
     "data": {
      "text/plain": [
       "[['baseline_text', 0.56, 0.0, 0.589, 0.0],\n",
       " ['lowercase', 0.553, 0.01, 0.587, 0.01],\n",
       " ['nopunctuation', 0.58, 0.0, 0.616, 0.0],\n",
       " ['nonumbers', 0.583, 0.0, 0.595, 0.0],\n",
       " ['lowercase_nopunct_nodigits', 0.56, 0.0, 0.598, 0.0],\n",
       " ['lemmas', 0.597, 0.01, 0.601, 0.0],\n",
       " ['upos', 0.54, 0.01, 0.547, 0.01],\n",
       " ['xpos', 0.563, 0.01, 0.536, 0.02],\n",
       " ['dependency', 0.61, 0.0, 0.639, 0.0],\n",
       " ['ner', 0.377, 0.01, 0.255, 0.01],\n",
       " ['stopwords_removed', 0.563, 0.01, 0.535, 0.02],\n",
       " ['only_stopwords', 0.526, 0.01, 0.559, 0.01],\n",
       " ['only_subjective_classes', 0.468, 0.01, 0.408, 0.02],\n",
       " ['only_nouns_verbs', 0.496, 0.01, 0.439, 0.02]]"
      ]
     },
     "execution_count": 38,
     "metadata": {},
     "output_type": "execute_result"
    }
   ],
   "source": [
    "# Get a Latex table with mean and std results\n",
    "\n",
    "average_result_list = []\n",
    "\n",
    "for element in experiment_list:\n",
    "    element_average = []\n",
    "    element_average.append(element)\n",
    "    # Create a new dataframe of values from selected experiment\n",
    "    element_df = results_df[results_df[\"experiment\"] == element]\n",
    "    # Calculate a mean and std of a specific column\n",
    "    micro_mean = round(element_df.microF1.mean(),3)\n",
    "    micro_std = round(element_df.microF1.std(),2)\n",
    "    element_average.append(micro_mean)\n",
    "    element_average.append(micro_std)\n",
    "    macro_mean = round(element_df.macroF1.mean(),3)\n",
    "    macro_std = round(element_df.macroF1.std(),2)\n",
    "    element_average.append(macro_mean)\n",
    "    element_average.append(macro_std)\n",
    "    average_result_list.append(element_average)\n",
    "\n",
    "average_result_list"
   ]
  },
  {
   "cell_type": "code",
   "execution_count": 45,
   "metadata": {},
   "outputs": [
    {
     "name": "stdout",
     "output_type": "stream",
     "text": [
      "\\toprule\n",
      "\\textbf{Representation} & \\textbf{Micro F1} & \\textbf{Macro F1}\\\\\n",
      "\\midrule\n",
      "baseline_text & 0.56 $\\pm$ 0.0 & 0.589 $\\pm$ 0.0 \\\\\n",
      "lowercase & 0.553 $\\pm$ 0.01 & 0.587 $\\pm$ 0.01 \\\\\n",
      "nopunctuation & 0.58 $\\pm$ 0.0 & 0.616 $\\pm$ 0.0 \\\\\n",
      "nonumbers & 0.583 $\\pm$ 0.0 & 0.595 $\\pm$ 0.0 \\\\\n",
      "lowercase_nopunct_nodigits & 0.56 $\\pm$ 0.0 & 0.598 $\\pm$ 0.0 \\\\\n",
      "lemmas & 0.597 $\\pm$ 0.01 & 0.601 $\\pm$ 0.0 \\\\\n",
      "upos & 0.54 $\\pm$ 0.01 & 0.547 $\\pm$ 0.01 \\\\\n",
      "xpos & 0.563 $\\pm$ 0.01 & 0.536 $\\pm$ 0.02 \\\\\n",
      "dependency & 0.61 $\\pm$ 0.0 & 0.639 $\\pm$ 0.0 \\\\\n",
      "ner & 0.377 $\\pm$ 0.01 & 0.255 $\\pm$ 0.01 \\\\\n",
      "stopwords_removed & 0.563 $\\pm$ 0.01 & 0.535 $\\pm$ 0.02 \\\\\n",
      "only_stopwords & 0.526 $\\pm$ 0.01 & 0.559 $\\pm$ 0.01 \\\\\n",
      "only_subjective_classes & 0.468 $\\pm$ 0.01 & 0.408 $\\pm$ 0.02 \\\\\n",
      "only_nouns_verbs & 0.496 $\\pm$ 0.01 & 0.439 $\\pm$ 0.02 \\\\\n"
     ]
    }
   ],
   "source": [
    "print(\"\\\\toprule\")\n",
    "print(\"\\\\textbf{Representation} & \\\\textbf{Micro F1} & \\\\textbf{Macro F1}\\\\\\\\\")\n",
    "print(\"\\midrule\")\n",
    "\n",
    "for element in average_result_list:\n",
    "    print(element[0], \"&\", element[1], \"$\\pm$\", element[2], \"&\", element[3], \"$\\pm$\", element[4], \"\\\\\\\\\")\n"
   ]
  }
 ],
 "metadata": {
  "interpreter": {
   "hash": "d9cfed5f1ae94e54fa81532beaff0e3c2671211fce378bf56ff5a3766143a25d"
  },
  "kernelspec": {
   "display_name": "Python 3.10.2 64-bit",
   "language": "python",
   "name": "python3"
  },
  "language_info": {
   "codemirror_mode": {
    "name": "ipython",
    "version": 3
   },
   "file_extension": ".py",
   "mimetype": "text/x-python",
   "name": "python",
   "nbconvert_exporter": "python",
   "pygments_lexer": "ipython3",
   "version": "3.10.2"
  },
  "orig_nbformat": 4
 },
 "nbformat": 4,
 "nbformat_minor": 2
}
